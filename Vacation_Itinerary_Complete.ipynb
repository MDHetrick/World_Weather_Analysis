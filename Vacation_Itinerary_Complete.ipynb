{
 "cells": [
  {
   "cell_type": "markdown",
   "metadata": {},
   "source": [
    "## Deliverable 3. Create a Travel Itinerary Map."
   ]
  },
  {
   "cell_type": "code",
   "execution_count": 23,
   "metadata": {},
   "outputs": [],
   "source": [
    "%matplotlib notebook\n",
    "# Dependencies and Setup\n",
    "import pandas as pd\n",
    "import requests\n",
    "import gmaps\n",
    "import numpy as np\n",
    "import gmaps.datasets\n",
    "\n",
    "# Import API key\n",
    "from config import g_key\n",
    "\n",
    "# Configure gmaps\n",
    "gmaps.configure(api_key=g_key)"
   ]
  },
  {
   "cell_type": "code",
   "execution_count": 24,
   "metadata": {},
   "outputs": [
    {
     "data": {
      "text/html": [
       "<div>\n",
       "<style scoped>\n",
       "    .dataframe tbody tr th:only-of-type {\n",
       "        vertical-align: middle;\n",
       "    }\n",
       "\n",
       "    .dataframe tbody tr th {\n",
       "        vertical-align: top;\n",
       "    }\n",
       "\n",
       "    .dataframe thead th {\n",
       "        text-align: right;\n",
       "    }\n",
       "</style>\n",
       "<table border=\"1\" class=\"dataframe\">\n",
       "  <thead>\n",
       "    <tr style=\"text-align: right;\">\n",
       "      <th></th>\n",
       "      <th>City_ID</th>\n",
       "      <th>City</th>\n",
       "      <th>Country</th>\n",
       "      <th>Max Temp</th>\n",
       "      <th>Current Description</th>\n",
       "      <th>Lat</th>\n",
       "      <th>Lng</th>\n",
       "      <th>Hotel Name</th>\n",
       "    </tr>\n",
       "  </thead>\n",
       "  <tbody>\n",
       "    <tr>\n",
       "      <th>0</th>\n",
       "      <td>1</td>\n",
       "      <td>Ushuaia</td>\n",
       "      <td>AR</td>\n",
       "      <td>53.26</td>\n",
       "      <td>broken clouds</td>\n",
       "      <td>-54.8000</td>\n",
       "      <td>-68.3000</td>\n",
       "      <td>Albatross Hotel</td>\n",
       "    </tr>\n",
       "    <tr>\n",
       "      <th>1</th>\n",
       "      <td>2</td>\n",
       "      <td>Imeni Poliny Osipenko</td>\n",
       "      <td>RU</td>\n",
       "      <td>-16.33</td>\n",
       "      <td>overcast clouds</td>\n",
       "      <td>52.4201</td>\n",
       "      <td>136.4853</td>\n",
       "      <td>Yubileynaya</td>\n",
       "    </tr>\n",
       "    <tr>\n",
       "      <th>2</th>\n",
       "      <td>3</td>\n",
       "      <td>Busselton</td>\n",
       "      <td>AU</td>\n",
       "      <td>64.09</td>\n",
       "      <td>overcast clouds</td>\n",
       "      <td>-33.6500</td>\n",
       "      <td>115.3333</td>\n",
       "      <td>Observatory Guest House</td>\n",
       "    </tr>\n",
       "    <tr>\n",
       "      <th>3</th>\n",
       "      <td>4</td>\n",
       "      <td>Port Elizabeth</td>\n",
       "      <td>ZA</td>\n",
       "      <td>73.69</td>\n",
       "      <td>few clouds</td>\n",
       "      <td>-33.9180</td>\n",
       "      <td>25.5701</td>\n",
       "      <td>39 On Nile Guest House</td>\n",
       "    </tr>\n",
       "    <tr>\n",
       "      <th>4</th>\n",
       "      <td>5</td>\n",
       "      <td>Bluff</td>\n",
       "      <td>NZ</td>\n",
       "      <td>50.81</td>\n",
       "      <td>few clouds</td>\n",
       "      <td>-46.6000</td>\n",
       "      <td>168.3333</td>\n",
       "      <td>Bluff Homestead - Guesthouse &amp; Campervan Park</td>\n",
       "    </tr>\n",
       "  </tbody>\n",
       "</table>\n",
       "</div>"
      ],
      "text/plain": [
       "   City_ID                   City Country  Max Temp Current Description  \\\n",
       "0        1                Ushuaia      AR     53.26       broken clouds   \n",
       "1        2  Imeni Poliny Osipenko      RU    -16.33     overcast clouds   \n",
       "2        3              Busselton      AU     64.09     overcast clouds   \n",
       "3        4         Port Elizabeth      ZA     73.69          few clouds   \n",
       "4        5                  Bluff      NZ     50.81          few clouds   \n",
       "\n",
       "       Lat       Lng                                     Hotel Name  \n",
       "0 -54.8000  -68.3000                                Albatross Hotel  \n",
       "1  52.4201  136.4853                                    Yubileynaya  \n",
       "2 -33.6500  115.3333                        Observatory Guest House  \n",
       "3 -33.9180   25.5701                         39 On Nile Guest House  \n",
       "4 -46.6000  168.3333  Bluff Homestead - Guesthouse & Campervan Park  "
      ]
     },
     "execution_count": 24,
     "metadata": {},
     "output_type": "execute_result"
    }
   ],
   "source": [
    "# 1. Read the WeatherPy_vacation.csv into a DataFrame.\n",
    "vacation_df = pd.read_csv(\"Vacation_Search/WeatherPy_vacation.csv\")\n",
    "vacation_df.head()"
   ]
  },
  {
   "cell_type": "code",
   "execution_count": 25,
   "metadata": {},
   "outputs": [],
   "source": [
    "clean_hotel_df = vacation_df.copy()"
   ]
  },
  {
   "cell_type": "code",
   "execution_count": 26,
   "metadata": {},
   "outputs": [],
   "source": [
    "# clean_hotel_df = clean_hotel_df.drop('City_ID', axis=1)"
   ]
  },
  {
   "cell_type": "code",
   "execution_count": 27,
   "metadata": {},
   "outputs": [],
   "source": [
    "# 2. Using the template add the city name, the country code, the weather description and maximum temperature for the city.\n",
    "info_box_template = \"\"\"\n",
    "<dl>\n",
    "<dt>City</dt><dd>{City}</dd>\n",
    "<dt>Country</dt><dd>{Country}</dd>\n",
    "<dt>Weather Description</dt><dd>{Current Description}</dd>\n",
    "<dt>Max Temp</dt><dd>{Max Temp} °F</dd>\n",
    "</dl>\n",
    "\"\"\"\n",
    "\n",
    "\n",
    "# 3a. Get the data from each row and add it to the formatting template and store the data in a list.\n",
    "hotel_info = [info_box_template.format(**row) for index, row in clean_hotel_df.iterrows()]\n",
    "\n",
    "# 3b. Get the latitude and longitude from each row and store in a new DataFrame.\n",
    "locations = clean_hotel_df[[\"Lat\", \"Lng\"]]"
   ]
  },
  {
   "cell_type": "code",
   "execution_count": 28,
   "metadata": {},
   "outputs": [
    {
     "data": {
      "application/vnd.jupyter.widget-view+json": {
       "model_id": "6e5f2e53d2db45a3abf16d0ce6e9e4df",
       "version_major": 2,
       "version_minor": 0
      },
      "text/plain": [
       "Figure(layout=FigureLayout(height='420px'))"
      ]
     },
     "metadata": {},
     "output_type": "display_data"
    }
   ],
   "source": [
    "fig1 = gmaps.figure(center=(30.0, 31.0), zoom_level=1.5)\n",
    "\n",
    "# 4a. Add a marker layer for each city to the map.\n",
    "marker_layer = gmaps.marker_layer(locations, info_box_content=hotel_info)\n",
    "fig1.add_layer(marker_layer)\n",
    "\n",
    "# 4b. Display the figure\n",
    "\n",
    "fig1"
   ]
  },
  {
   "cell_type": "code",
   "execution_count": 29,
   "metadata": {},
   "outputs": [],
   "source": [
    "# From the map above pick 4 cities and create a vacation itinerary route to travel between the four cities. \n",
    "# 5. Create DataFrames for each city by filtering the 'vacation_df' using the loc method. \n",
    "# Hint: The starting and ending city should be the same city.\n",
    "base_city = \"Bereda\"\n",
    "city_1 = \"Foz\"\n",
    "city_2 = \"Ferrol\"\n",
    "city_3 = \"Carballo\"\n",
    "\n",
    "\n",
    "vacation_start = clean_hotel_df.loc[clean_hotel_df[\"City\"] == base_city]\n",
    "vacation_end = clean_hotel_df.loc[clean_hotel_df[\"City\"] == base_city]\n",
    "vacation_stop1 = clean_hotel_df.loc[clean_hotel_df[\"City\"] == city_1]\n",
    "vacation_stop2 = clean_hotel_df.loc[clean_hotel_df[\"City\"] == city_2] \n",
    "vacation_stop3 = clean_hotel_df.loc[clean_hotel_df[\"City\"] == city_3] \n"
   ]
  },
  {
   "cell_type": "code",
   "execution_count": 30,
   "metadata": {},
   "outputs": [],
   "source": [
    "# 6. Get the latitude-longitude pairs as tuples from each city DataFrame using the to_numpy function and list indexing.\n",
    "start = vacation_start.to_numpy()\n",
    "end = vacation_end.to_numpy()\n",
    "stop1 = vacation_stop1.to_numpy()\n",
    "stop2 = vacation_stop2.to_numpy()\n",
    "stop3 = vacation_stop3.to_numpy()\n"
   ]
  },
  {
   "cell_type": "code",
   "execution_count": 40,
   "metadata": {},
   "outputs": [
    {
     "data": {
      "text/plain": [
       "43.2686"
      ]
     },
     "execution_count": 40,
     "metadata": {},
     "output_type": "execute_result"
    }
   ],
   "source": [
    "start[0][5]"
   ]
  },
  {
   "cell_type": "code",
   "execution_count": 32,
   "metadata": {},
   "outputs": [],
   "source": [
    "start_coord = [(x[5],x[6]) for x in start]\n",
    "stop1_coord = [(x[5],x[6]) for x in stop1]\n",
    "stop2_coord = [(x[5],x[6]) for x in stop2]\n",
    "stop3_coord = [(x[5],x[6]) for x in stop3]\n",
    "end_coord = [(x[5],x[6]) for x in end]\n"
   ]
  },
  {
   "cell_type": "code",
   "execution_count": 33,
   "metadata": {},
   "outputs": [
    {
     "data": {
      "text/plain": [
       "(43.2686, -7.5406)"
      ]
     },
     "execution_count": 33,
     "metadata": {},
     "output_type": "execute_result"
    }
   ],
   "source": [
    "start_coord[0]"
   ]
  },
  {
   "cell_type": "code",
   "execution_count": 38,
   "metadata": {
    "scrolled": false
   },
   "outputs": [
    {
     "data": {
      "application/vnd.jupyter.widget-view+json": {
       "model_id": "7ef3e8bd0ec64747bd31e90605ff498a",
       "version_major": 2,
       "version_minor": 0
      },
      "text/plain": [
       "Figure(layout=FigureLayout(height='420px'))"
      ]
     },
     "metadata": {},
     "output_type": "display_data"
    }
   ],
   "source": [
    "# 7. Create a direction layer map using the start and end latitude-longitude pairs,\n",
    "# and stop1, stop2, and stop3 as the waypoints. The travel_mode should be \"DRIVING\", \"BICYCLING\", or \"WALKING\".\n",
    "directions1 = gmaps.directions_layer(start_coord[0], stop1_coord[0])\n",
    "directions2 = gmaps.directions_layer(stop1_coord[0], stop2_coord[0])\n",
    "directions3 = gmaps.directions_layer(stop2_coord[0], stop3_coord[0])\n",
    "directions4 = gmaps.directions_layer(stop3_coord[0], end_coord[0])\n",
    "\n",
    "fig.add_layer(directions1)\n",
    "fig.add_layer(directions2)\n",
    "fig.add_layer(directions3)\n",
    "fig.add_layer(directions4)\n",
    "\n",
    "fig"
   ]
  },
  {
   "cell_type": "code",
   "execution_count": 34,
   "metadata": {
    "scrolled": true
   },
   "outputs": [
    {
     "data": {
      "text/html": [
       "<div>\n",
       "<style scoped>\n",
       "    .dataframe tbody tr th:only-of-type {\n",
       "        vertical-align: middle;\n",
       "    }\n",
       "\n",
       "    .dataframe tbody tr th {\n",
       "        vertical-align: top;\n",
       "    }\n",
       "\n",
       "    .dataframe thead th {\n",
       "        text-align: right;\n",
       "    }\n",
       "</style>\n",
       "<table border=\"1\" class=\"dataframe\">\n",
       "  <thead>\n",
       "    <tr style=\"text-align: right;\">\n",
       "      <th></th>\n",
       "      <th>City_ID</th>\n",
       "      <th>City</th>\n",
       "      <th>Country</th>\n",
       "      <th>Max Temp</th>\n",
       "      <th>Current Description</th>\n",
       "      <th>Lat</th>\n",
       "      <th>Lng</th>\n",
       "      <th>Hotel Name</th>\n",
       "    </tr>\n",
       "  </thead>\n",
       "  <tbody>\n",
       "    <tr>\n",
       "      <th>0</th>\n",
       "      <td>539</td>\n",
       "      <td>Bereda</td>\n",
       "      <td>ES</td>\n",
       "      <td>51.55</td>\n",
       "      <td>clear sky</td>\n",
       "      <td>43.2686</td>\n",
       "      <td>-7.5406</td>\n",
       "      <td>Pazo de Verdes</td>\n",
       "    </tr>\n",
       "    <tr>\n",
       "      <th>1</th>\n",
       "      <td>662</td>\n",
       "      <td>Foz</td>\n",
       "      <td>ES</td>\n",
       "      <td>54.93</td>\n",
       "      <td>clear sky</td>\n",
       "      <td>43.5692</td>\n",
       "      <td>-7.2544</td>\n",
       "      <td>Hotel Balcón de San Bartolo</td>\n",
       "    </tr>\n",
       "    <tr>\n",
       "      <th>2</th>\n",
       "      <td>665</td>\n",
       "      <td>Ferrol</td>\n",
       "      <td>ES</td>\n",
       "      <td>57.45</td>\n",
       "      <td>clear sky</td>\n",
       "      <td>43.4832</td>\n",
       "      <td>-8.2369</td>\n",
       "      <td>Parador de Ferrol</td>\n",
       "    </tr>\n",
       "    <tr>\n",
       "      <th>3</th>\n",
       "      <td>433</td>\n",
       "      <td>Carballo</td>\n",
       "      <td>ES</td>\n",
       "      <td>56.62</td>\n",
       "      <td>clear sky</td>\n",
       "      <td>43.2130</td>\n",
       "      <td>-8.6910</td>\n",
       "      <td>Pazo do Souto</td>\n",
       "    </tr>\n",
       "    <tr>\n",
       "      <th>4</th>\n",
       "      <td>539</td>\n",
       "      <td>Bereda</td>\n",
       "      <td>ES</td>\n",
       "      <td>51.55</td>\n",
       "      <td>clear sky</td>\n",
       "      <td>43.2686</td>\n",
       "      <td>-7.5406</td>\n",
       "      <td>Pazo de Verdes</td>\n",
       "    </tr>\n",
       "  </tbody>\n",
       "</table>\n",
       "</div>"
      ],
      "text/plain": [
       "   City_ID      City Country  Max Temp Current Description      Lat     Lng  \\\n",
       "0      539    Bereda      ES     51.55           clear sky  43.2686 -7.5406   \n",
       "1      662       Foz      ES     54.93           clear sky  43.5692 -7.2544   \n",
       "2      665    Ferrol      ES     57.45           clear sky  43.4832 -8.2369   \n",
       "3      433  Carballo      ES     56.62           clear sky  43.2130 -8.6910   \n",
       "4      539    Bereda      ES     51.55           clear sky  43.2686 -7.5406   \n",
       "\n",
       "                    Hotel Name  \n",
       "0               Pazo de Verdes  \n",
       "1  Hotel Balcón de San Bartolo  \n",
       "2            Parador de Ferrol  \n",
       "3                Pazo do Souto  \n",
       "4               Pazo de Verdes  "
      ]
     },
     "execution_count": 34,
     "metadata": {},
     "output_type": "execute_result"
    }
   ],
   "source": [
    "# 8. To create a marker layer map between the four cities.\n",
    "#  Combine the four city DataFrames into one DataFrame using the concat() function.\n",
    "itinerary_df = pd.concat([vacation_start, vacation_stop1, vacation_stop2, vacation_stop3, vacation_end],ignore_index=True)\n",
    "itinerary_df"
   ]
  },
  {
   "cell_type": "code",
   "execution_count": 35,
   "metadata": {},
   "outputs": [],
   "source": [
    "# 9 Using the template add city name, the country code, the weather description and maximum temperature for the city. \n",
    "info_box_template = \"\"\"\n",
    "<dl>\n",
    "<dt>City</dt><dd>{City}</dd>\n",
    "<dt>Country</dt><dd>{Country}</dd>\n",
    "<dt>Weather Description</dt><dd>{Current Description}</dd>\n",
    "<dt>Max Temp</dt><dd>{Max Temp} °F</dd>\n",
    "</dl>\n",
    "\"\"\"\n",
    "\n",
    "\n",
    "# 10a Get the data from each row and add it to the formatting template and store the data in a list.\n",
    "trip_info = [info_box_template.format(**row) for index, row in itinerary_df.iterrows()]\n",
    "\n",
    "# 10b. Get the latitude and longitude from each row and store in a new DataFrame.\n",
    "trip_locations = itinerary_df[[\"Lat\", \"Lng\"]]"
   ]
  },
  {
   "cell_type": "code",
   "execution_count": 36,
   "metadata": {},
   "outputs": [
    {
     "data": {
      "text/html": [
       "<div>\n",
       "<style scoped>\n",
       "    .dataframe tbody tr th:only-of-type {\n",
       "        vertical-align: middle;\n",
       "    }\n",
       "\n",
       "    .dataframe tbody tr th {\n",
       "        vertical-align: top;\n",
       "    }\n",
       "\n",
       "    .dataframe thead th {\n",
       "        text-align: right;\n",
       "    }\n",
       "</style>\n",
       "<table border=\"1\" class=\"dataframe\">\n",
       "  <thead>\n",
       "    <tr style=\"text-align: right;\">\n",
       "      <th></th>\n",
       "      <th>Lat</th>\n",
       "      <th>Lng</th>\n",
       "    </tr>\n",
       "  </thead>\n",
       "  <tbody>\n",
       "    <tr>\n",
       "      <th>0</th>\n",
       "      <td>43.2686</td>\n",
       "      <td>-7.5406</td>\n",
       "    </tr>\n",
       "    <tr>\n",
       "      <th>1</th>\n",
       "      <td>43.5692</td>\n",
       "      <td>-7.2544</td>\n",
       "    </tr>\n",
       "    <tr>\n",
       "      <th>2</th>\n",
       "      <td>43.4832</td>\n",
       "      <td>-8.2369</td>\n",
       "    </tr>\n",
       "    <tr>\n",
       "      <th>3</th>\n",
       "      <td>43.2130</td>\n",
       "      <td>-8.6910</td>\n",
       "    </tr>\n",
       "    <tr>\n",
       "      <th>4</th>\n",
       "      <td>43.2686</td>\n",
       "      <td>-7.5406</td>\n",
       "    </tr>\n",
       "  </tbody>\n",
       "</table>\n",
       "</div>"
      ],
      "text/plain": [
       "       Lat     Lng\n",
       "0  43.2686 -7.5406\n",
       "1  43.5692 -7.2544\n",
       "2  43.4832 -8.2369\n",
       "3  43.2130 -8.6910\n",
       "4  43.2686 -7.5406"
      ]
     },
     "execution_count": 36,
     "metadata": {},
     "output_type": "execute_result"
    }
   ],
   "source": [
    "trip_locations\n"
   ]
  },
  {
   "cell_type": "code",
   "execution_count": 37,
   "metadata": {},
   "outputs": [
    {
     "data": {
      "application/vnd.jupyter.widget-view+json": {
       "model_id": "7ef3e8bd0ec64747bd31e90605ff498a",
       "version_major": 2,
       "version_minor": 0
      },
      "text/plain": [
       "Figure(layout=FigureLayout(height='420px'))"
      ]
     },
     "metadata": {},
     "output_type": "display_data"
    }
   ],
   "source": [
    "# 11a. Add a marker layer for each city to the map.\n",
    "marker_layer = gmaps.marker_layer(trip_locations, info_box_content=trip_info)\n",
    "fig.add_layer(marker_layer)\n",
    "# 11b. Display the figure\n",
    "fig"
   ]
  },
  {
   "cell_type": "code",
   "execution_count": null,
   "metadata": {},
   "outputs": [],
   "source": []
  }
 ],
 "metadata": {
  "kernelspec": {
   "display_name": "PythonData",
   "language": "python",
   "name": "myenv"
  },
  "language_info": {
   "codemirror_mode": {
    "name": "ipython",
    "version": 3
   },
   "file_extension": ".py",
   "mimetype": "text/x-python",
   "name": "python",
   "nbconvert_exporter": "python",
   "pygments_lexer": "ipython3",
   "version": "3.7.11"
  },
  "latex_envs": {
   "LaTeX_envs_menu_present": true,
   "autoclose": false,
   "autocomplete": true,
   "bibliofile": "biblio.bib",
   "cite_by": "apalike",
   "current_citInitial": 1,
   "eqLabelWithNumbers": true,
   "eqNumInitial": 1,
   "hotkeys": {
    "equation": "Ctrl-E",
    "itemize": "Ctrl-I"
   },
   "labels_anchors": false,
   "latex_user_defs": false,
   "report_style_numbering": false,
   "user_envs_cfg": false
  }
 },
 "nbformat": 4,
 "nbformat_minor": 2
}
