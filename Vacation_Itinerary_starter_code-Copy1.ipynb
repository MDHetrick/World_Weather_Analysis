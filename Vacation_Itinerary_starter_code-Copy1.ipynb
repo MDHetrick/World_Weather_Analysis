{
 "cells": [
  {
   "cell_type": "markdown",
   "metadata": {},
   "source": [
    "## Deliverable 3. Create a Travel Itinerary Map."
   ]
  },
  {
   "cell_type": "code",
   "execution_count": 1,
   "metadata": {},
   "outputs": [],
   "source": [
    "%matplotlib notebook\n",
    "# Dependencies and Setup\n",
    "import pandas as pd\n",
    "import requests\n",
    "import gmaps\n",
    "import numpy as np\n",
    "import gmaps.datasets\n",
    "\n",
    "# Import API key\n",
    "from config import g_key\n",
    "\n",
    "# Configure gmaps\n",
    "gmaps.configure(api_key=g_key)"
   ]
  },
  {
   "cell_type": "code",
   "execution_count": 2,
   "metadata": {},
   "outputs": [
    {
     "data": {
      "text/html": [
       "<div>\n",
       "<style scoped>\n",
       "    .dataframe tbody tr th:only-of-type {\n",
       "        vertical-align: middle;\n",
       "    }\n",
       "\n",
       "    .dataframe tbody tr th {\n",
       "        vertical-align: top;\n",
       "    }\n",
       "\n",
       "    .dataframe thead th {\n",
       "        text-align: right;\n",
       "    }\n",
       "</style>\n",
       "<table border=\"1\" class=\"dataframe\">\n",
       "  <thead>\n",
       "    <tr style=\"text-align: right;\">\n",
       "      <th></th>\n",
       "      <th>City_ID</th>\n",
       "      <th>City</th>\n",
       "      <th>Country</th>\n",
       "      <th>Max Temp</th>\n",
       "      <th>Current Description</th>\n",
       "      <th>Lat</th>\n",
       "      <th>Lng</th>\n",
       "      <th>Hotel Name</th>\n",
       "    </tr>\n",
       "  </thead>\n",
       "  <tbody>\n",
       "    <tr>\n",
       "      <th>0</th>\n",
       "      <td>1</td>\n",
       "      <td>Ushuaia</td>\n",
       "      <td>AR</td>\n",
       "      <td>53.26</td>\n",
       "      <td>broken clouds</td>\n",
       "      <td>-54.8000</td>\n",
       "      <td>-68.3000</td>\n",
       "      <td>Albatross Hotel</td>\n",
       "    </tr>\n",
       "    <tr>\n",
       "      <th>1</th>\n",
       "      <td>2</td>\n",
       "      <td>Imeni Poliny Osipenko</td>\n",
       "      <td>RU</td>\n",
       "      <td>-16.33</td>\n",
       "      <td>overcast clouds</td>\n",
       "      <td>52.4201</td>\n",
       "      <td>136.4853</td>\n",
       "      <td>Yubileynaya</td>\n",
       "    </tr>\n",
       "    <tr>\n",
       "      <th>2</th>\n",
       "      <td>3</td>\n",
       "      <td>Busselton</td>\n",
       "      <td>AU</td>\n",
       "      <td>64.09</td>\n",
       "      <td>overcast clouds</td>\n",
       "      <td>-33.6500</td>\n",
       "      <td>115.3333</td>\n",
       "      <td>Observatory Guest House</td>\n",
       "    </tr>\n",
       "    <tr>\n",
       "      <th>3</th>\n",
       "      <td>4</td>\n",
       "      <td>Port Elizabeth</td>\n",
       "      <td>ZA</td>\n",
       "      <td>73.69</td>\n",
       "      <td>few clouds</td>\n",
       "      <td>-33.9180</td>\n",
       "      <td>25.5701</td>\n",
       "      <td>39 On Nile Guest House</td>\n",
       "    </tr>\n",
       "    <tr>\n",
       "      <th>4</th>\n",
       "      <td>5</td>\n",
       "      <td>Bluff</td>\n",
       "      <td>NZ</td>\n",
       "      <td>50.81</td>\n",
       "      <td>few clouds</td>\n",
       "      <td>-46.6000</td>\n",
       "      <td>168.3333</td>\n",
       "      <td>Bluff Homestead - Guesthouse &amp; Campervan Park</td>\n",
       "    </tr>\n",
       "  </tbody>\n",
       "</table>\n",
       "</div>"
      ],
      "text/plain": [
       "   City_ID                   City Country  Max Temp Current Description  \\\n",
       "0        1                Ushuaia      AR     53.26       broken clouds   \n",
       "1        2  Imeni Poliny Osipenko      RU    -16.33     overcast clouds   \n",
       "2        3              Busselton      AU     64.09     overcast clouds   \n",
       "3        4         Port Elizabeth      ZA     73.69          few clouds   \n",
       "4        5                  Bluff      NZ     50.81          few clouds   \n",
       "\n",
       "       Lat       Lng                                     Hotel Name  \n",
       "0 -54.8000  -68.3000                                Albatross Hotel  \n",
       "1  52.4201  136.4853                                    Yubileynaya  \n",
       "2 -33.6500  115.3333                        Observatory Guest House  \n",
       "3 -33.9180   25.5701                         39 On Nile Guest House  \n",
       "4 -46.6000  168.3333  Bluff Homestead - Guesthouse & Campervan Park  "
      ]
     },
     "execution_count": 2,
     "metadata": {},
     "output_type": "execute_result"
    }
   ],
   "source": [
    "# 1. Read the WeatherPy_vacation.csv into a DataFrame.\n",
    "vacation_df = pd.read_csv(\"Vacation_Search/WeatherPy_vacation.csv\")\n",
    "vacation_df.head()"
   ]
  },
  {
   "cell_type": "code",
   "execution_count": 3,
   "metadata": {},
   "outputs": [],
   "source": [
    "clean_hotel_df = vacation_df.copy()\n",
    "\n",
    "# 3b. Get the latitude and longitude from each row and store in a new DataFrame.\n",
    "locations = clean_hotel_df[[\"Lat\", \"Lng\"]]"
   ]
  },
  {
   "cell_type": "code",
   "execution_count": 50,
   "metadata": {
    "scrolled": true
   },
   "outputs": [
    {
     "data": {
      "text/plain": [
       "348   -13.7\n",
       "Name: Lat, dtype: float64"
      ]
     },
     "execution_count": 50,
     "metadata": {},
     "output_type": "execute_result"
    }
   ],
   "source": [
    "# From the map above pick 4 cities and create a vacation itinerary route to travel between the four cities. \n",
    "# 5. Create DataFrames for each city by filtering the 'vacation_df' using the loc method. \n",
    "# Hint: The starting and ending city should be the same city.\n",
    "base_city = \"Pisco\"\n",
    "city_1 = \"Pimentel\"\n",
    "city_2 = \"Huarmey\"\n",
    "city_3 = \"Contamana\"\n",
    "\n",
    "vacation_start = clean_hotel_df.loc[clean_hotel_df[\"City\"] == base_city]\n",
    "vacation_end = clean_hotel_df.loc[clean_hotel_df[\"City\"] == base_city]\n",
    "vacation_stop1 = clean_hotel_df.loc[clean_hotel_df[\"City\"] == city_1]\n",
    "vacation_stop2 = clean_hotel_df.loc[clean_hotel_df[\"City\"] == city_2] \n",
    "vacation_stop3 = clean_hotel_df.loc[clean_hotel_df[\"City\"] == city_3] \n",
    "\n",
    "vacation_start[\"Lat\"]"
   ]
  },
  {
   "cell_type": "code",
   "execution_count": 39,
   "metadata": {},
   "outputs": [],
   "source": [
    "vacation = {\n",
    "    \"Start\": [vacation_start['Lat'], vacation_start['Lng']], \n",
    "    \"End\": [vacation_end['Lat'], vacation_end['Lng']],\n",
    "    \"Stop1\": [vacation_stop1['Lat'], vacation_stop1['Lng']], \n",
    "    \"Stop2\": [vacation_stop2['Lat'], vacation_stop2['Lng']], \n",
    "    \"Stop3\": [vacation_stop3['Lat'], vacation_stop3['Lng']]\n",
    "}"
   ]
  },
  {
   "cell_type": "code",
   "execution_count": 48,
   "metadata": {},
   "outputs": [],
   "source": [
    "vacation_otherway = {\n",
    "    \"Start\": [vacation_start['Lat'], vacation_start['Lng']]\n",
    "}"
   ]
  },
  {
   "cell_type": "code",
   "execution_count": 49,
   "metadata": {},
   "outputs": [
    {
     "data": {
      "text/plain": [
       "{'Start': [348   -13.7\n",
       "  Name: Lat, dtype: float64,\n",
       "  348   -76.2167\n",
       "  Name: Lng, dtype: float64]}"
      ]
     },
     "execution_count": 49,
     "metadata": {},
     "output_type": "execute_result"
    }
   ],
   "source": [
    "vacation_otherway"
   ]
  },
  {
   "cell_type": "code",
   "execution_count": 43,
   "metadata": {},
   "outputs": [],
   "source": [
    "vacation_df = pd.DataFrame(data=vacation, index=[0, 1])"
   ]
  },
  {
   "cell_type": "code",
   "execution_count": 44,
   "metadata": {},
   "outputs": [
    {
     "data": {
      "text/html": [
       "<div>\n",
       "<style scoped>\n",
       "    .dataframe tbody tr th:only-of-type {\n",
       "        vertical-align: middle;\n",
       "    }\n",
       "\n",
       "    .dataframe tbody tr th {\n",
       "        vertical-align: top;\n",
       "    }\n",
       "\n",
       "    .dataframe thead th {\n",
       "        text-align: right;\n",
       "    }\n",
       "</style>\n",
       "<table border=\"1\" class=\"dataframe\">\n",
       "  <thead>\n",
       "    <tr style=\"text-align: right;\">\n",
       "      <th></th>\n",
       "      <th>Start</th>\n",
       "      <th>End</th>\n",
       "      <th>Stop1</th>\n",
       "      <th>Stop2</th>\n",
       "      <th>Stop3</th>\n",
       "    </tr>\n",
       "  </thead>\n",
       "  <tbody>\n",
       "    <tr>\n",
       "      <th>0</th>\n",
       "      <td>348   -13.7\n",
       "Name: Lat, dtype: float64</td>\n",
       "      <td>348   -13.7\n",
       "Name: Lat, dtype: float64</td>\n",
       "      <td>346   -6.8367\n",
       "Name: Lat, dtype: float64</td>\n",
       "      <td>54   -10.0681\n",
       "Name: Lat, dtype: float64</td>\n",
       "      <td>434   -7.3333\n",
       "Name: Lat, dtype: float64</td>\n",
       "    </tr>\n",
       "    <tr>\n",
       "      <th>1</th>\n",
       "      <td>348   -76.2167\n",
       "Name: Lng, dtype: float64</td>\n",
       "      <td>348   -76.2167\n",
       "Name: Lng, dtype: float64</td>\n",
       "      <td>346   -79.9342\n",
       "Name: Lng, dtype: float64</td>\n",
       "      <td>54   -78.1522\n",
       "Name: Lng, dtype: float64</td>\n",
       "      <td>434   -75.0167\n",
       "Name: Lng, dtype: float64</td>\n",
       "    </tr>\n",
       "  </tbody>\n",
       "</table>\n",
       "</div>"
      ],
      "text/plain": [
       "                                      Start  \\\n",
       "0     348   -13.7\n",
       "Name: Lat, dtype: float64   \n",
       "1  348   -76.2167\n",
       "Name: Lng, dtype: float64   \n",
       "\n",
       "                                        End  \\\n",
       "0     348   -13.7\n",
       "Name: Lat, dtype: float64   \n",
       "1  348   -76.2167\n",
       "Name: Lng, dtype: float64   \n",
       "\n",
       "                                      Stop1  \\\n",
       "0   346   -6.8367\n",
       "Name: Lat, dtype: float64   \n",
       "1  346   -79.9342\n",
       "Name: Lng, dtype: float64   \n",
       "\n",
       "                                     Stop2  \\\n",
       "0  54   -10.0681\n",
       "Name: Lat, dtype: float64   \n",
       "1  54   -78.1522\n",
       "Name: Lng, dtype: float64   \n",
       "\n",
       "                                      Stop3  \n",
       "0   434   -7.3333\n",
       "Name: Lat, dtype: float64  \n",
       "1  434   -75.0167\n",
       "Name: Lng, dtype: float64  "
      ]
     },
     "execution_count": 44,
     "metadata": {},
     "output_type": "execute_result"
    }
   ],
   "source": [
    "vacation_df\n"
   ]
  },
  {
   "cell_type": "code",
   "execution_count": 4,
   "metadata": {},
   "outputs": [],
   "source": [
    "# 4a. Add a marker layer for each city to the map.\n",
    "\n",
    "# 4b. Display the figure\n",
    "\n"
   ]
  },
  {
   "cell_type": "code",
   "execution_count": 38,
   "metadata": {},
   "outputs": [
    {
     "name": "stdout",
     "output_type": "stream",
     "text": [
      "        Lat      Lng\n",
      "City                \n",
      "Pisco -13.7 -76.2167\n"
     ]
    }
   ],
   "source": [
    "columns = [\"City\", \"Lat\", \"Lng\"]\n",
    "# 6. Get the latitude-longitude pairs as tuples from each city DataFrame using the to_numpy function and list indexing.\n",
    "start = pd.DataFrame(vacation_start, columns=columns)\n",
    "start = start.set_index('City')\n",
    "# start.to_numpy()\n",
    "# end = \n",
    "# stop1 = \n",
    "# stop2 = \n",
    "# stop3 = \n",
    "print(start)"
   ]
  },
  {
   "cell_type": "code",
   "execution_count": 7,
   "metadata": {
    "scrolled": true
   },
   "outputs": [],
   "source": [
    "# 7. Create a direction layer map using the start and end latitude-longitude pairs,\n",
    "# and stop1, stop2, and stop3 as the waypoints. The travel_mode should be \"DRIVING\", \"BICYCLING\", or \"WALKING\".\n",
    "\n"
   ]
  },
  {
   "cell_type": "code",
   "execution_count": 8,
   "metadata": {},
   "outputs": [],
   "source": [
    "# 8. To create a marker layer map between the four cities.\n",
    "#  Combine the four city DataFrames into one DataFrame using the concat() function.\n",
    "itinerary_df = pd.concat([],ignore_index=True)\n",
    "itinerary_df"
   ]
  },
  {
   "cell_type": "code",
   "execution_count": 9,
   "metadata": {},
   "outputs": [],
   "source": [
    "# 9 Using the template add city name, the country code, the weather description and maximum temperature for the city. \n",
    "info_box_template = \"\"\"\n",
    "\n",
    "\"\"\"\n",
    "\n",
    "# 10a Get the data from each row and add it to the formatting template and store the data in a list.\n",
    "hotel_info = [info_box_template.format(**row) for index, row in itinerary_df.iterrows()]\n",
    "\n",
    "# 10b. Get the latitude and longitude from each row and store in a new DataFrame.\n",
    "locations = itinerary_df[[\"Lat\", \"Lng\"]]"
   ]
  },
  {
   "cell_type": "code",
   "execution_count": 10,
   "metadata": {},
   "outputs": [],
   "source": [
    "# 11a. Add a marker layer for each city to the map.\n",
    "\n",
    "# 11b. Display the figure\n"
   ]
  },
  {
   "cell_type": "code",
   "execution_count": null,
   "metadata": {},
   "outputs": [],
   "source": [
    "for x in (1, 2, 3): print x,"
   ]
  }
 ],
 "metadata": {
  "kernelspec": {
   "display_name": "Python 3 (ipykernel)",
   "language": "python",
   "name": "python3"
  },
  "language_info": {
   "codemirror_mode": {
    "name": "ipython",
    "version": 3
   },
   "file_extension": ".py",
   "mimetype": "text/x-python",
   "name": "python",
   "nbconvert_exporter": "python",
   "pygments_lexer": "ipython3",
   "version": "3.9.7"
  },
  "latex_envs": {
   "LaTeX_envs_menu_present": true,
   "autoclose": false,
   "autocomplete": true,
   "bibliofile": "biblio.bib",
   "cite_by": "apalike",
   "current_citInitial": 1,
   "eqLabelWithNumbers": true,
   "eqNumInitial": 1,
   "hotkeys": {
    "equation": "Ctrl-E",
    "itemize": "Ctrl-I"
   },
   "labels_anchors": false,
   "latex_user_defs": false,
   "report_style_numbering": false,
   "user_envs_cfg": false
  }
 },
 "nbformat": 4,
 "nbformat_minor": 2
}
