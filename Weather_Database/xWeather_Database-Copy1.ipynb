{
 "cells": [
  {
   "cell_type": "code",
   "execution_count": 2,
   "id": "6c0c6ada",
   "metadata": {},
   "outputs": [],
   "source": [
    "# Import the dependencies.\n",
    "import pandas as pd\n",
    "import matplotlib.pyplot as plt\n",
    "\n",
    "# Import the random module.\n",
    "import random\n",
    "\n",
    "# Import the NumPy module.\n",
    "import numpy as np\n",
    "\n",
    "# Use the citipy module to determine city based on latitude and longitude.\n",
    "from citipy import citipy\n",
    "\n",
    "# Import the time library and the datetime module from the datetime library \n",
    "import time\n",
    "from datetime import datetime\n",
    "\n",
    "#Import requests\n",
    "import requests"
   ]
  },
  {
   "cell_type": "code",
   "execution_count": 3,
   "id": "80a12df6",
   "metadata": {},
   "outputs": [
    {
     "data": {
      "text/plain": [
       "<zip at 0x14b5452d300>"
      ]
     },
     "execution_count": 3,
     "metadata": {},
     "output_type": "execute_result"
    }
   ],
   "source": [
    "# Create a new set of 2000 random latitude and longitudes\n",
    "lats = np.random.uniform(low=-90.000, high=90.000, size=20)\n",
    "lngs = np.random.uniform(low=-180.000, high=180.000, size=20)\n",
    "lat_lngs = zip(lats, lngs)\n",
    "lat_lngs"
   ]
  },
  {
   "cell_type": "code",
   "execution_count": 4,
   "id": "9b7aff05",
   "metadata": {},
   "outputs": [],
   "source": [
    "# Add the latitudes and longitudes to a list.\n",
    "coordinates = list(lat_lngs)"
   ]
  },
  {
   "cell_type": "code",
   "execution_count": 5,
   "id": "7b57b1bc",
   "metadata": {},
   "outputs": [
    {
     "name": "stdout",
     "output_type": "stream",
     "text": [
      "kahului us\n",
      "khatanga ru\n",
      "dikson ru\n",
      "rikitea pf\n",
      "morondava mg\n",
      "katsuura jp\n",
      "misratah ly\n",
      "khandyga ru\n",
      "atuona pf\n",
      "palabuhanratu id\n",
      "naze jp\n",
      "luganville vu\n",
      "nikolskoye ru\n",
      "mar del plata ar\n",
      "albany au\n",
      "sao joao da barra br\n",
      "brae gb\n",
      "albany au\n",
      "busselton au\n",
      "klaksvik fo\n"
     ]
    }
   ],
   "source": [
    "#get the nearest city using the citipy module\n",
    "\n",
    "for coordinate in coordinates:\n",
    "    print(citipy.nearest_city(coordinate[0], coordinate[1]).city_name,\n",
    "          citipy.nearest_city(coordinate[0], coordinate[1]).country_code)"
   ]
  },
  {
   "cell_type": "code",
   "execution_count": 6,
   "id": "5dd11fe9",
   "metadata": {},
   "outputs": [
    {
     "data": {
      "text/plain": [
       "19"
      ]
     },
     "execution_count": 6,
     "metadata": {},
     "output_type": "execute_result"
    }
   ],
   "source": [
    "# Create a list for holding the cities.\n",
    "cities = []\n",
    "# Identify the nearest city for each latitude and longitude combination.\n",
    "for coordinate in coordinates:\n",
    "    city = citipy.nearest_city(coordinate[0], coordinate[1]).city_name\n",
    "\n",
    "    # If the city is unique, then we will add it to the cities list.\n",
    "    if city not in cities:\n",
    "        cities.append(city)\n",
    "# Print the city count to confirm sufficient count.\n",
    "len(cities)"
   ]
  },
  {
   "cell_type": "code",
   "execution_count": 7,
   "id": "ecf2bc9e",
   "metadata": {},
   "outputs": [],
   "source": [
    "# Import the API key.\n",
    "from config import weather_api_key2\n",
    "import requests"
   ]
  },
  {
   "cell_type": "code",
   "execution_count": 8,
   "id": "f4cfab18",
   "metadata": {},
   "outputs": [],
   "source": [
    "# Starting URL for Weather Map API Call.\n",
    "url = \"http://api.openweathermap.org/data/2.5/weather?units=Imperial&APPID=\" + weather_api_key2"
   ]
  },
  {
   "cell_type": "code",
   "execution_count": 9,
   "id": "50d22a32",
   "metadata": {
    "scrolled": true
   },
   "outputs": [
    {
     "name": "stdout",
     "output_type": "stream",
     "text": [
      "Beginning Data Retrieval     \n",
      "-----------------------------\n",
      "Processing Record 1 of Set 1 | kahului\n",
      "Processing Record 2 of Set 1 | khatanga\n",
      "Processing Record 3 of Set 1 | dikson\n",
      "-----------------------------\n",
      "Data Retrieval Complete      \n",
      "-----------------------------\n"
     ]
    }
   ],
   "source": [
    "# Create an empty list to hold the weather data.\n",
    "city_data = []\n",
    "# Print the beginning of the logging.\n",
    "print(\"Beginning Data Retrieval     \")\n",
    "print(\"-----------------------------\")\n",
    "\n",
    "# Create counters.\n",
    "record_count = 1\n",
    "set_count = 1\n",
    "HTTP_STATUS_OK = 200\n",
    "HTTP_STATUS_NOT_FOUND = 404\n",
    "\n",
    "# Loop through all the cities in the list.\n",
    "for i, city in enumerate(cities[:3]):\n",
    "\n",
    "    # Group cities in sets of 50 for logging purposes.\n",
    "    if (i % 50 == 0 and i >= 50):\n",
    "        set_count += 1\n",
    "        record_count = 1\n",
    "        time.sleep(60)\n",
    "\n",
    "    # Create endpoint URL with each city.\n",
    "    city_url = url + \"&q=\" + city.replace(\" \",\"+\")\n",
    "\n",
    "    # Log the URL, record, and set numbers and the city.\n",
    "    print(f\"Processing Record {record_count} of Set {set_count} | {city}\")\n",
    "    # Add 1 to the record count.\n",
    "    record_count += 1\n",
    "# Run an API request for each of the cities.\n",
    "    try:\n",
    "        response = requests.get(city_url)\n",
    "        status_code = response.status_code\n",
    "        if status_code == HTTP_STATUS_OK:\n",
    "            city_weather = response.json()\n",
    "        # Parse out the needed data.\n",
    "            city_lat = city_weather[\"coord\"][\"lat\"]\n",
    "            city_lng = city_weather[\"coord\"][\"lon\"]\n",
    "            city_max_temp = city_weather[\"main\"][\"temp_max\"]\n",
    "            city_humidity = city_weather[\"main\"][\"humidity\"]\n",
    "            city_clouds = city_weather[\"clouds\"][\"all\"]\n",
    "            city_wind = city_weather[\"wind\"][\"speed\"]\n",
    "            city_country = city_weather[\"sys\"][\"country\"]\n",
    "            city_description = city_weather[\"weather\"][0][\"description\"]\n",
    "            # Convert the date to ISO standard.\n",
    "            city_date = datetime.utcfromtimestamp(city_weather[\"dt\"]).strftime('%Y-%m-%d %H:%M:%S')\n",
    "            # Append the city information into city_data list.\n",
    "            city_data.append({\"City\": city.title(),\n",
    "                              \"Lat\": city_lat,\n",
    "                              \"Lng\": city_lng,\n",
    "                              \"Max Temp\": city_max_temp,\n",
    "                              \"Humidity\": city_humidity,\n",
    "                              \"Cloudiness\": city_clouds,\n",
    "                              \"Wind Speed\": city_wind,\n",
    "                              \"Current Description\": city_description,\n",
    "                              \"Country\": city_country, \"Date\": city_date})\n",
    "        elif status_code == HTTP_STATUS_NOT_FOUND:\n",
    "            print(\"City not found. Skipping...\")\n",
    "            print(status_code)\n",
    "        else:\n",
    "            raise ValueError (f\"Unexpected error HTTP status: {status_code}\")\n",
    "# If an error is experienced, skip the city.\n",
    "    except:\n",
    "        print(\"City not found. Skipping...\")\n",
    "        print(status_code)\n",
    "        pass\n",
    "\n",
    "# Indicate that Data Loading is complete.\n",
    "print(\"-----------------------------\")\n",
    "print(\"Data Retrieval Complete      \")\n",
    "print(\"-----------------------------\")    "
   ]
  },
  {
   "cell_type": "code",
   "execution_count": 10,
   "id": "a82525b6",
   "metadata": {},
   "outputs": [],
   "source": [
    "#Add weather data to dataframe\n",
    "city_data_df = pd.DataFrame(city_data)"
   ]
  },
  {
   "cell_type": "code",
   "execution_count": 11,
   "id": "233e7689",
   "metadata": {},
   "outputs": [],
   "source": [
    "#Create new column order\n",
    "new_column_order = [\"City\", \"Country\", \"Lat\", \"Lng\", \"Max Temp\", \"Humidity\", \"Cloudiness\", \"Wind Speed\", \"Current Description\"]"
   ]
  },
  {
   "cell_type": "code",
   "execution_count": 12,
   "id": "a32e5b6d",
   "metadata": {},
   "outputs": [
    {
     "data": {
      "text/html": [
       "<div>\n",
       "<style scoped>\n",
       "    .dataframe tbody tr th:only-of-type {\n",
       "        vertical-align: middle;\n",
       "    }\n",
       "\n",
       "    .dataframe tbody tr th {\n",
       "        vertical-align: top;\n",
       "    }\n",
       "\n",
       "    .dataframe thead th {\n",
       "        text-align: right;\n",
       "    }\n",
       "</style>\n",
       "<table border=\"1\" class=\"dataframe\">\n",
       "  <thead>\n",
       "    <tr style=\"text-align: right;\">\n",
       "      <th></th>\n",
       "      <th>City</th>\n",
       "      <th>Country</th>\n",
       "      <th>Lat</th>\n",
       "      <th>Lng</th>\n",
       "      <th>Max Temp</th>\n",
       "      <th>Humidity</th>\n",
       "      <th>Cloudiness</th>\n",
       "      <th>Wind Speed</th>\n",
       "      <th>Current Description</th>\n",
       "    </tr>\n",
       "  </thead>\n",
       "  <tbody>\n",
       "    <tr>\n",
       "      <th>0</th>\n",
       "      <td>Kahului</td>\n",
       "      <td>US</td>\n",
       "      <td>20.8947</td>\n",
       "      <td>-156.4700</td>\n",
       "      <td>78.82</td>\n",
       "      <td>68</td>\n",
       "      <td>20</td>\n",
       "      <td>13.80</td>\n",
       "      <td>few clouds</td>\n",
       "    </tr>\n",
       "    <tr>\n",
       "      <th>1</th>\n",
       "      <td>Khatanga</td>\n",
       "      <td>RU</td>\n",
       "      <td>71.9667</td>\n",
       "      <td>102.5000</td>\n",
       "      <td>-35.86</td>\n",
       "      <td>99</td>\n",
       "      <td>21</td>\n",
       "      <td>3.15</td>\n",
       "      <td>few clouds</td>\n",
       "    </tr>\n",
       "    <tr>\n",
       "      <th>2</th>\n",
       "      <td>Dikson</td>\n",
       "      <td>RU</td>\n",
       "      <td>73.5069</td>\n",
       "      <td>80.5464</td>\n",
       "      <td>3.94</td>\n",
       "      <td>93</td>\n",
       "      <td>100</td>\n",
       "      <td>18.72</td>\n",
       "      <td>light snow</td>\n",
       "    </tr>\n",
       "  </tbody>\n",
       "</table>\n",
       "</div>"
      ],
      "text/plain": [
       "       City Country      Lat       Lng  Max Temp  Humidity  Cloudiness  \\\n",
       "0   Kahului      US  20.8947 -156.4700     78.82        68          20   \n",
       "1  Khatanga      RU  71.9667  102.5000    -35.86        99          21   \n",
       "2    Dikson      RU  73.5069   80.5464      3.94        93         100   \n",
       "\n",
       "   Wind Speed Current Description  \n",
       "0       13.80          few clouds  \n",
       "1        3.15          few clouds  \n",
       "2       18.72          light snow  "
      ]
     },
     "execution_count": 12,
     "metadata": {},
     "output_type": "execute_result"
    }
   ],
   "source": [
    "#apply new column order\n",
    "city_data_df = city_data_df[new_column_order]\n",
    "\n",
    "city_data_df"
   ]
  },
  {
   "cell_type": "code",
   "execution_count": 14,
   "id": "4713c146",
   "metadata": {},
   "outputs": [],
   "source": [
    "# Create the output file (CSV).\n",
    "output_data_file = \"WeatherPy_Databasexxx.csv\"\n",
    "\n",
    "# Export the City_Data into a CSV.\n",
    "city_data_df.to_csv(output_data_file, index_label=\"City_ID\")\n"
   ]
  },
  {
   "cell_type": "code",
   "execution_count": null,
   "id": "09832b41",
   "metadata": {},
   "outputs": [],
   "source": []
  }
 ],
 "metadata": {
  "kernelspec": {
   "display_name": "Python 3 (ipykernel)",
   "language": "python",
   "name": "python3"
  },
  "language_info": {
   "codemirror_mode": {
    "name": "ipython",
    "version": 3
   },
   "file_extension": ".py",
   "mimetype": "text/x-python",
   "name": "python",
   "nbconvert_exporter": "python",
   "pygments_lexer": "ipython3",
   "version": "3.9.7"
  }
 },
 "nbformat": 4,
 "nbformat_minor": 5
}
